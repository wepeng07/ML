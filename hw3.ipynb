{
  "cells": [
    {
      "cell_type": "markdown",
      "metadata": {
        "id": "view-in-github",
        "colab_type": "text"
      },
      "source": [
        "<a href=\"https://colab.research.google.com/github/wepeng07/ML/blob/main/hw3.ipynb\" target=\"_parent\"><img src=\"https://colab.research.google.com/assets/colab-badge.svg\" alt=\"Open In Colab\"/></a>"
      ]
    },
    {
      "cell_type": "markdown",
      "metadata": {
        "id": "8S890DQdZfYU"
      },
      "source": [
        "# Homework 3\n",
        "#### CS 273P Machine Learning and Data Mining (Winter 2025)\n",
        "\n",
        "* Q1: Common PyTorch Operations (20 points)\n",
        "* Q2: Linear Modeling on Titanic Dataset (75 points)\n",
        "* Statement of Collaboration (5 points)\n",
        "\n",
        "## Submission guidelines\n",
        "Once you have completed the assignment in this notebook, you should export a PDF from this notebook and submit it to Gradescope. You do not need to submit anything else. Make sure your PDF contains your code, the output of each cell, and your results are not blocked or clipped significantly. Once your PDF is uploaded to Gradescope, you will be prompted to match each question with the pages in your PDF, please make sure you complete this step and do it correctly. Since this is the second assignment, and we have made our submission guidelines clear, we will not accept any submission that does not follow the guidelines."
      ]
    },
    {
      "cell_type": "markdown",
      "metadata": {
        "id": "n0boVcMiZfYW"
      },
      "source": [
        "## Question 1: Common PyTorch Operations\n",
        "You have used PyTorch in your last assignment. In this question, let's get to know PyTorch better by performing some common operations. In practice, you will be using these operations frequently.\n",
        "\n",
        "For now, import PyTorch first. If you don't have it installed, you can install it by running `!pip install torch` in a code cell.\n",
        "\n",
        "In addition, you may find their documentation to learn more: https://pytorch.org/docs/stable/index.html"
      ]
    },
    {
      "cell_type": "code",
      "execution_count": 1,
      "metadata": {
        "id": "T9lgZkCdZfYX"
      },
      "outputs": [],
      "source": [
        "import torch\n",
        "import numpy as np"
      ]
    },
    {
      "cell_type": "markdown",
      "metadata": {
        "id": "qiRby5x7ZfYY"
      },
      "source": [
        "### Question 1.1: Tensor Operations (5 points)\n",
        "In this question, we will look at some common code snippets you will encounter when working with PyTorch tensors."
      ]
    },
    {
      "cell_type": "code",
      "execution_count": 2,
      "metadata": {
        "colab": {
          "base_uri": "https://localhost:8080/"
        },
        "id": "aOpzWaj9ZfYY",
        "outputId": "aa140893-5d65-44b4-b15b-a11452d5cc78"
      },
      "outputs": [
        {
          "output_type": "stream",
          "name": "stdout",
          "text": [
            "A's shape: torch.Size([2, 2])\n",
            "Result of multiplying tensor A with tensor B is tensor([[1, 2],\n",
            "        [3, 4]])\n",
            "torch.Size([4, 2])\n",
            "the tensor is tensor([[0.7398, 0.9164, 0.3092],\n",
            "        [0.6705, 0.7618, 0.2456],\n",
            "        [0.5020, 0.4743, 0.5809]])\n"
          ]
        }
      ],
      "source": [
        "# Create a 2D tensor\n",
        "A = torch.tensor([[1, 2], [3, 4]])\n",
        "# Create an all-ones tensor with the same shape as A\n",
        "B = torch.ones_like(A)\n",
        "# Create an all-zeros tensor with the same shape as A\n",
        "C = torch.zeros_like(A)\n",
        "\n",
        "\n",
        "##### Your code starts here #####\n",
        "\n",
        "# Print out the shape of tensor A\n",
        "print(\"A's shape:\", A.shape)\n",
        "# Print out the result of multiplying tensor A with tensor B\n",
        "print (\"Result of multiplying tensor A with tensor B is\", A*B)\n",
        "# Reshape A into a 1D tensor and print out A\n",
        "result = torch.cat([B,C], dim = 0)\n",
        "print(result.shape)\n",
        "# Create a random tensor of shape (3, 3) with values from 0 to 1 and print out the tensor\n",
        "D = torch.rand(3,3)\n",
        "print(\"the tensor is\", D)"
      ]
    },
    {
      "cell_type": "markdown",
      "metadata": {
        "id": "utVrMLgHZfYY"
      },
      "source": [
        "### Question 1.2: Autograd (5 points)\n",
        "Autograd is a feature offered by PyTorch that automatically computes gradients for tensors, this facilitates the updating of model parameters during training. In this question, you will work with autograd to compute gradients for a tensor."
      ]
    },
    {
      "cell_type": "code",
      "execution_count": 8,
      "metadata": {
        "colab": {
          "base_uri": "https://localhost:8080/"
        },
        "id": "BOhXW6mmZfYZ",
        "outputId": "8158fc09-11b3-4d56-c13d-f3460e485917"
      },
      "outputs": [
        {
          "output_type": "stream",
          "name": "stdout",
          "text": [
            "Gradient: (tensor([1., 4.]),)\n"
          ]
        }
      ],
      "source": [
        "# Define a simple function\n",
        "def f(x):\n",
        "    return x[0] + x[1] * x[1]\n",
        "\n",
        "\n",
        "##### Your code starts here #####\n",
        "\n",
        "# Create a 2-element 1D tensor `param` with automatic differentiation enabled\n",
        "# hint: use argument `requires_grad`\n",
        "param = torch.tensor([1.0, 2.0], requires_grad=True)\n",
        "\n",
        "# Calculate the gradient of f with respect to `param`\n",
        "# hint: use `torch.autograd.grad` function\n",
        "grad = torch.autograd.grad(f(param), param)\n",
        "\n",
        "# Print out the gradient\n",
        "print (\"Gradient:\", grad)\n"
      ]
    },
    {
      "cell_type": "markdown",
      "metadata": {
        "id": "2jy-23nNZfYZ"
      },
      "source": [
        "### Question 1.3: The Neural Network Module (5 points)\n",
        "`torch.nn` provides a simple way to define neural network architectures. In this question, you will use `torch.nn` to define a simple linear model."
      ]
    },
    {
      "cell_type": "code",
      "execution_count": 11,
      "metadata": {
        "colab": {
          "base_uri": "https://localhost:8080/"
        },
        "id": "6RS4M7icZfYZ",
        "outputId": "c0e2d998-8bb2-4ca0-9cb0-9598d80bb96f"
      },
      "outputs": [
        {
          "output_type": "stream",
          "name": "stdout",
          "text": [
            "model output:  tensor([-0.6429], grad_fn=<ViewBackward0>)\n"
          ]
        }
      ],
      "source": [
        "from torch import nn\n",
        "\n",
        "##### Your code starts here #####\n",
        "\n",
        "\n",
        "# Create a Linear model using torch.nn.Linear, with input size 4 and output size 1\n",
        "linear_layer = nn.Linear(in_features=4, out_features=1)\n",
        "\n",
        "# Create 1D input tensor of size 4\n",
        "input_tensor = torch.randn(4)\n",
        "\n",
        "# Print out the output of the model given the input tensor\n",
        "output = linear_layer(input_tensor)\n",
        "print(\"model output: \", output)\n"
      ]
    },
    {
      "cell_type": "markdown",
      "metadata": {
        "id": "ZF_38q3kZfYZ"
      },
      "source": [
        "### Question 1.4: Computing Devices (5 points)\n",
        "PyTorch allows you to run your code on different devices, such as CPUs and GPUs. In this question, we will be checking for a CUDA device (NVIDIA GPU) and move data to and from it if available (don't worry if you don't have a CUDA-compatible GPU)."
      ]
    },
    {
      "cell_type": "code",
      "execution_count": 12,
      "metadata": {
        "colab": {
          "base_uri": "https://localhost:8080/"
        },
        "id": "WxFMlOemZfYa",
        "outputId": "40ea7e6e-1f95-4c8c-902f-03ca1357e950"
      },
      "outputs": [
        {
          "output_type": "stream",
          "name": "stdout",
          "text": [
            "Using device: cpu\n",
            "Tensor's device: cpu\n",
            "Moved tensor back to CPU: cpu\n"
          ]
        }
      ],
      "source": [
        "cuda_available = torch.cuda.is_available()  # Check if a CUDA GPU is available\n",
        "\n",
        "##### Your code starts here #####\n",
        "\n",
        "# Define the device to be used\n",
        "device = torch.device(\"cuda\" if cuda_available else \"cpu\")\n",
        "print(\"Using device:\", device)\n",
        "# Create a 4x4 tensor and move it to the device\n",
        "tensor_on_device = torch.rand(4, 4).to(device)\n",
        "# Print out the tensor's device\n",
        "print(\"Tensor's device:\", tensor_on_device.device)\n",
        "# Move it back to the CPU device\n",
        "tensor_on_cpu = tensor_on_device.to(\"cpu\")\n",
        "print(\"Moved tensor back to CPU:\", tensor_on_cpu.device)\n"
      ]
    },
    {
      "cell_type": "markdown",
      "metadata": {
        "id": "j8Ny1tADZfYa"
      },
      "source": [
        "## Question 2: Linear Modeling on Titanic Dataset\n",
        "\n",
        "The sinking of the Titanic is one of the most infamous shipwrecks in history.\n",
        "\n",
        "On April 15, 1912, during her maiden voyage, the widely considered “unsinkable” RMS Titanic sank after colliding with an iceberg. Unfortunately, there weren’t enough lifeboats for everyone onboard, resulting in the death of 1502 out of 2224 passengers and crew.\n",
        "\n",
        "While there was some element of luck involved in surviving, it seems some groups of people were more likely to survive than others.\n",
        "\n",
        "In this question, we ask you to build a linear model that answers the question: “what sorts of people were more likely to survive?” using passenger data (ie name, age, gender, socio-economic class, etc).\n",
        "\n",
        "![titanic.png](attachment:titanic.png)\n",
        "\n",
        "Why did Rose survive and Jack didn't? Let's find out!\n",
        "\n",
        "![titanic-meme.png](attachment:titanic-meme.png)"
      ]
    },
    {
      "cell_type": "markdown",
      "metadata": {
        "id": "z5Kr06eVZfYa"
      },
      "source": [
        "### Question 2.1: Data Preprocessing (25 points)\n",
        "Real world data is often messy and requires preprocessing before it can be used for modeling. This procedure is ubiquitous in real-world applications and is often referred to as \"data cleaning\" and \"feature engineering\". In this question, you will preprocess the Titanic dataset. The dataset can be found in the data folder.\n",
        "\n",
        "In this question, we will be using Pandas, a powerful tool for tabular data manipulation. If you don't have it installed, you can install it by running `!pip install pandas` in a code cell.\n",
        "\n",
        "Before we start, let's load the dataset and take a look at the first few rows.\n"
      ]
    },
    {
      "cell_type": "code",
      "execution_count": 297,
      "metadata": {
        "colab": {
          "base_uri": "https://localhost:8080/"
        },
        "id": "k8JqjU38ZfYb",
        "outputId": "fb2a66ab-12f8-4d4a-f989-f8fa74bef21a"
      },
      "outputs": [
        {
          "output_type": "stream",
          "name": "stdout",
          "text": [
            "Index(['PassengerId', 'Survived', 'Pclass', 'Name', 'Sex', 'Age', 'SibSp',\n",
            "       'Parch', 'Ticket', 'Fare', 'Cabin', 'Embarked'],\n",
            "      dtype='object')\n",
            "(891, 12)\n",
            "   PassengerId  Survived  Pclass  \\\n",
            "0            1         0       3   \n",
            "1            2         1       1   \n",
            "2            3         1       3   \n",
            "3            4         1       1   \n",
            "4            5         0       3   \n",
            "\n",
            "                                                Name     Sex   Age  SibSp  \\\n",
            "0                            Braund, Mr. Owen Harris    male  22.0      1   \n",
            "1  Cumings, Mrs. John Bradley (Florence Briggs Th...  female  38.0      1   \n",
            "2                             Heikkinen, Miss. Laina  female  26.0      0   \n",
            "3       Futrelle, Mrs. Jacques Heath (Lily May Peel)  female  35.0      1   \n",
            "4                           Allen, Mr. William Henry    male  35.0      0   \n",
            "\n",
            "   Parch            Ticket     Fare Cabin Embarked  \n",
            "0      0         A/5 21171   7.2500   NaN        S  \n",
            "1      0          PC 17599  71.2833   C85        C  \n",
            "2      0  STON/O2. 3101282   7.9250   NaN        S  \n",
            "3      0            113803  53.1000  C123        S  \n",
            "4      0            373450   8.0500   NaN        S  \n"
          ]
        }
      ],
      "source": [
        "import pandas as pd\n",
        "\n",
        "# Load the titanic dataset\n",
        "path = \"data/titanic/train.csv\"\n",
        "data = pd.read_csv(path)\n",
        "\n",
        "# Print out the column names\n",
        "print(data.columns)\n",
        "\n",
        "# Print out the shape of the dataset\n",
        "print(data.shape)\n",
        "\n",
        "# Print out the first 5 rows of the dataset\n",
        "print(data.head(5))"
      ]
    },
    {
      "cell_type": "markdown",
      "metadata": {
        "id": "DGajlvA0ZfYb"
      },
      "source": [
        "Here's some information about the columns in the dataset:\n",
        "* PassengerId: Unique identifier for each passenger (index, not predictive).\n",
        "* Survived: Target variable (0 = did not survive, 1 = survived).\n",
        "* Pclass: Travel class (1 = upper, 2 = middle, 3 = lower).\n",
        "* Name: Full name, may contain titles indicating social status.\n",
        "* Sex: Gender of the passenger (male/female).\n",
        "* Age: Passenger's age in years (missing values exist).\n",
        "* SibSp: Number of siblings/spouses aboard.\n",
        "* Parch: Number of parents/children aboard.\n",
        "* Ticket: Ticket number (possible grouping or class info).\n",
        "* Fare: Ticket fare paid (proxy for socio-economic status).\n",
        "* Cabin: Cabin number (location on ship, many missing values).\n",
        "* Embarked: Port of boarding (C = Cherbourg, Q = Queenstown, S = Southampton).\n",
        "\n",
        "Based on your intuition, do you think all of the columns are useful for predicting survival? If not, which columns can be dropped? (Answer in the markdown cell below)\n"
      ]
    },
    {
      "cell_type": "markdown",
      "metadata": {
        "id": "EW1Z51aUZfYb"
      },
      "source": [
        "PassengerId,Name,Ticket,Cabin is not useful\n"
      ]
    },
    {
      "cell_type": "markdown",
      "metadata": {
        "id": "QI80H6wjZfYb"
      },
      "source": [
        "Building on your previous answer, drop the columns that you think are not useful for predicting survival."
      ]
    },
    {
      "cell_type": "code",
      "execution_count": 298,
      "metadata": {
        "colab": {
          "base_uri": "https://localhost:8080/"
        },
        "id": "uuvlWHKDZfYb",
        "outputId": "f2ee8441-a7f6-4afe-e84f-0a5897ba3479"
      },
      "outputs": [
        {
          "output_type": "stream",
          "name": "stdout",
          "text": [
            "   Survived  Pclass     Sex   Age  SibSp  Parch     Fare Embarked\n",
            "0         0       3    male  22.0      1      0   7.2500        S\n",
            "1         1       1  female  38.0      1      0  71.2833        C\n",
            "2         1       3  female  26.0      0      0   7.9250        S\n",
            "3         1       1  female  35.0      1      0  53.1000        S\n",
            "4         0       3    male  35.0      0      0   8.0500        S\n"
          ]
        }
      ],
      "source": [
        "##### Your code starts here #####\n",
        "\n",
        "# Drop unnecessary columns\n",
        "data = data.drop(columns=[\"PassengerId\", \"Name\", \"Ticket\", \"Cabin\"])\n",
        "print(data.head(5))"
      ]
    },
    {
      "cell_type": "markdown",
      "metadata": {
        "id": "Z_LM8JxuZfYb"
      },
      "source": [
        "Some of the columns in the dataset seems to have missing values, why and how would you handle missing values in the dataset? Try to propose other ways compared to the method below. (Answer in the markdown cell below)"
      ]
    },
    {
      "cell_type": "markdown",
      "metadata": {
        "id": "dW4gZHjuZfYc"
      },
      "source": [
        "For Numerical Data like Age, we can Use mean.\n",
        "For Categorical Data like Embarked, we can use create a new category."
      ]
    },
    {
      "cell_type": "markdown",
      "metadata": {
        "id": "ns4004iyZfYc"
      },
      "source": [
        "For now, we use the median value to fill the missing numerical values, and the most frequent value to fill the missing categorical values."
      ]
    },
    {
      "cell_type": "code",
      "execution_count": 299,
      "metadata": {
        "colab": {
          "base_uri": "https://localhost:8080/"
        },
        "id": "2pkoaIAfZfYc",
        "outputId": "05d96e0e-04cd-45ce-dd2d-ed7462b869e2"
      },
      "outputs": [
        {
          "output_type": "stream",
          "name": "stdout",
          "text": [
            "   Survived  Pclass     Sex   Age  SibSp  Parch     Fare Embarked\n",
            "0         0       3    male  22.0      1      0   7.2500        S\n",
            "1         1       1  female  38.0      1      0  71.2833        C\n",
            "2         1       3  female  26.0      0      0   7.9250        S\n",
            "3         1       1  female  35.0      1      0  53.1000        S\n",
            "4         0       3    male  35.0      0      0   8.0500        S\n"
          ]
        }
      ],
      "source": [
        "##### Your code starts here #####\n",
        "\n",
        "# Fill missing values in the \"Age\" column with the median age\n",
        "data.loc[:, \"Age\"] = data[\"Age\"].fillna(data[\"Age\"].median())\n",
        "# Fill missing values in the \"Embarked\" column with the most common port\n",
        "data.loc[:, \"Embarked\"] = data[\"Embarked\"].fillna(data[\"Embarked\"].mode()[0])\n",
        "print(data.head(5))"
      ]
    },
    {
      "cell_type": "markdown",
      "metadata": {
        "id": "xWHfAavOZfYc"
      },
      "source": [
        "Lastly, we know that computers can't handle textural data directly, so we need to convert the categorical columns into numerical columns. One common way to do this is by using one-hot encoding. It creates an one-to-one mapping between the categorical values and the numerical values."
      ]
    },
    {
      "cell_type": "code",
      "execution_count": 300,
      "metadata": {
        "id": "l20XDVIKZfYc"
      },
      "outputs": [],
      "source": [
        "##### Your code starts here #####\n",
        "\n",
        "# Do one-hot encoding on the categorical columns\n",
        "# hint: there's a pandas function that helps you do this\n",
        "data = pd.get_dummies(data, columns=[\"Sex\", \"Embarked\"])\n",
        "\n"
      ]
    },
    {
      "cell_type": "markdown",
      "metadata": {
        "id": "TPmpqqY2ZfYc"
      },
      "source": [
        "Before we can use this data for training, we should split the data into features and target. In addition, you need to make sure that your dataset has no missing values and all columns are numerical."
      ]
    },
    {
      "cell_type": "code",
      "execution_count": 301,
      "metadata": {
        "colab": {
          "base_uri": "https://localhost:8080/"
        },
        "id": "yCYk5lRuZfYc",
        "outputId": "0a63debd-5b1f-4fa4-e02d-6928ea4a5faf"
      },
      "outputs": [
        {
          "output_type": "stream",
          "name": "stdout",
          "text": [
            "0\n",
            "Survived        int64\n",
            "Pclass          int64\n",
            "Age           float64\n",
            "SibSp           int64\n",
            "Parch           int64\n",
            "Fare          float64\n",
            "Sex_female       bool\n",
            "Sex_male         bool\n",
            "Embarked_C       bool\n",
            "Embarked_Q       bool\n",
            "Embarked_S       bool\n",
            "dtype: object\n"
          ]
        }
      ],
      "source": [
        "X = data.drop(columns=[\"Survived\"]) # features\n",
        "y = data[\"Survived\"]                # target\n",
        "\n",
        "# Check if there are any missing values in the dataset\n",
        "print(data.isnull().sum().sum())    # this should return 0\n",
        "\n",
        "# Check if all columns are numeric\n",
        "print(data.dtypes)                  # all columns should be numeric (or boolean)"
      ]
    },
    {
      "cell_type": "markdown",
      "metadata": {
        "id": "hMRsLmYVZfYd"
      },
      "source": [
        "Now let's do the same for our test dataset."
      ]
    },
    {
      "cell_type": "code",
      "execution_count": 302,
      "metadata": {
        "colab": {
          "base_uri": "https://localhost:8080/"
        },
        "id": "a3NB_Al0ZfYd",
        "outputId": "35028385-02af-4e52-8090-1c7cc7e51cc9"
      },
      "outputs": [
        {
          "output_type": "stream",
          "name": "stdout",
          "text": [
            "is null in the column: 0\n"
          ]
        }
      ],
      "source": [
        "path = \"data/titanic/test.csv\"\n",
        "test_data = pd.read_csv(path)\n",
        "target_path = \"data/titanic/gender_submission.csv\"\n",
        "target = pd.read_csv(target_path)\n",
        "# Merge the test data with the target data\n",
        "test_data = pd.merge(test_data, target, on=\"PassengerId\")\n",
        "# print(test_data.head(5))\n",
        "\n",
        "##### Your code starts here #####\n",
        "\n",
        "# Same preprocessing steps for the test set\n",
        "\n",
        "# Drop unnecessary columns\n",
        "test_data = test_data.drop(columns=[\"PassengerId\", \"Name\", \"Ticket\", \"Cabin\"])\n",
        "# print(\"column:\",test_data.columns)\n",
        "\n",
        "# Fill missing values\n",
        "test_data.loc[:, \"Age\"] = test_data[\"Age\"].fillna(test_data[\"Age\"].median())\n",
        "test_data.loc[:, \"Embarked\"] = test_data[\"Embarked\"].fillna(test_data[\"Embarked\"].mode()[0])\n",
        "test_data.loc[:, \"Fare\"] = test_data[\"Fare\"].fillna(test_data[\"Fare\"].median())\n",
        "\n",
        "\n",
        "# Do one-hot encoding\n",
        "test_data = pd.get_dummies(test_data, columns=[\"Sex\", \"Embarked\"])\n",
        "\n",
        "# # Ensure test set has the same columns as training set\n",
        "# missing_cols = set(X.columns) - set(test_data.columns)\n",
        "# for col in missing_cols:\n",
        "#     test_data[col] = 0  # Add missing columns with default value 0\n",
        "\n",
        "# test_data = test_data[X.columns]  # Ensure column order is the same\n",
        "\n",
        "\n",
        "# Split the test set into features and target\n",
        "X_test = test_data.drop(columns=[\"Survived\"])\n",
        "y_test = test_data[\"Survived\"]\n",
        "\n",
        "\n",
        "# Check for missing values\n",
        "# print(test_data[test_data.isnull().any(axis=1)])                  #looking for which row has the nan value\n",
        "print(\"is null in the column:\", test_data.isnull().sum().sum())    # this should return 0\n",
        "\n",
        "# Check for non-numeric columns\n",
        "assert X_test.dtypes.apply(lambda x: x in [np.int64, np.float64, np.bool_]).all(), \"Non-numeric columns detected\"\n"
      ]
    },
    {
      "cell_type": "markdown",
      "metadata": {
        "id": "FDmQQh_KZfYd"
      },
      "source": [
        "Lastly, we convert the data into PyTorch tensors before giving it to our model."
      ]
    },
    {
      "cell_type": "code",
      "execution_count": 303,
      "metadata": {
        "colab": {
          "base_uri": "https://localhost:8080/"
        },
        "id": "6S_kWAMeZfYd",
        "outputId": "e5b7ac17-7c06-4a93-b3fc-0b175c205880"
      },
      "outputs": [
        {
          "output_type": "stream",
          "name": "stdout",
          "text": [
            "X shape: (891, 10) y shape: (891,)\n",
            "X_test shape: torch.Size([418, 10]) y_test shape: torch.Size([418, 1])\n"
          ]
        }
      ],
      "source": [
        "# Convert the data to PyTorch tensors\n",
        "X = X.to_numpy(dtype=np.float32)\n",
        "X_tensor = torch.tensor(X, dtype=torch.float32)\n",
        "y_tensor = torch.tensor(y.values, dtype=torch.float32).view(-1, 1)\n",
        "\n",
        "\n",
        "##### Your code starts here #####\n",
        "\n",
        "# Convert the test data as well\n",
        "X_test = torch.tensor(X_test.to_numpy(dtype=np.float32))\n",
        "y_test = torch.tensor(y_test.values, dtype=torch.float32).view(-1, 1)\n",
        "\n",
        "print(\"X shape:\", X.shape, \"y shape:\", y.shape)\n",
        "print(\"X_test shape:\", X_test.shape, \"y_test shape:\", y_test.shape)"
      ]
    },
    {
      "cell_type": "markdown",
      "metadata": {
        "id": "WxjjTnIeZfYd"
      },
      "source": [
        "### Question 2.2: Building a Linear Model (10 points)\n",
        "In this question, you will build a linear model using PyTorch to predict the survival of passengers on the Titanic. Note that the input to the model should be the features of the passengers and the output should be the predicted survival status of the passengers.\n",
        "\n",
        "Take a look at the skeleton code below, you will see that this class inherits from `torch.nn.Module` and has a method called `forward`. You will see this structure in almost all PyTorch model implementations."
      ]
    },
    {
      "cell_type": "code",
      "execution_count": 304,
      "metadata": {
        "id": "WKWeYVz0ZfYd"
      },
      "outputs": [],
      "source": [
        "class LinearModel(torch.nn.Module):\n",
        "    def __init__(self, input_dim):\n",
        "        \"\"\"\n",
        "        Model initialized with the dimension of the input features\n",
        "        \"\"\"\n",
        "        super(LinearModel, self).__init__()\n",
        "\n",
        "        ##### Your code starts here #####\n",
        "\n",
        "        # Define some basic linear layers\n",
        "        self.linear =  torch.nn.Linear(input_dim, 1)\n",
        "        self.activation = torch.nn.Sigmoid()\n",
        "\n",
        "    def forward(self, x):\n",
        "        \"\"\"\n",
        "        The forward pass of the model\n",
        "        \"\"\"\n",
        "        x = self.linear(x)  # Pass input through linear layer\n",
        "        x = self.activation(x)  # Apply sigmoid to get probabilities\n",
        "        return x\n",
        "        # Implement the forward method\n",
        "        pass"
      ]
    },
    {
      "cell_type": "markdown",
      "metadata": {
        "id": "nBC4lPBMZfYd"
      },
      "source": [
        "### Question 2.3: Training the Model (10 points)\n",
        "In this question, you will train the model using the training data. Training a model typically involves 4 essential components:\n",
        "\n",
        "* model\n",
        "* training data\n",
        "* loss function: target function for the model to minimize\n",
        "* optimizer: the algorithm to update the model parameters\n",
        "\n",
        "This is true for almost all machine learning systems, from simple linear regressors to large language models with billions of parameters. Thus, it is essential for you to understand what each of these components do.\n",
        "\n",
        "We have defined the model and processed the training data, now let's define a loss function and an optimizer. Since we are essentially performing binary classification, we will use the binary cross-entropy loss function. In addition, we will use the Adam optimizer to update the model parameters."
      ]
    },
    {
      "cell_type": "code",
      "execution_count": 317,
      "metadata": {
        "id": "m3USKa2rZfYe"
      },
      "outputs": [],
      "source": [
        "##### Your code starts here #####\n",
        "\n",
        "# Instantiate the model\n",
        "input_dim = X.shape[1]  # Get the number of features (columns) from the training data\n",
        "model = LinearModel(input_dim)\n",
        "# Define loss function\n",
        "criterion = torch.nn.BCELoss()\n",
        "# Define optimizer\n",
        "optimizer =torch.optim.Adam(model.parameters(), lr=0.01)"
      ]
    },
    {
      "cell_type": "markdown",
      "metadata": {
        "id": "6odKk8L4ZfYe"
      },
      "source": [
        "Now let's implement the training loop to start training the model. Why do we need to train the model on the same data for multiple times (epochs)? (Answer in the markdown cell below)"
      ]
    },
    {
      "cell_type": "markdown",
      "metadata": {
        "id": "PCwmGjm4ZfYe"
      },
      "source": [
        "so we can continuously improve by adjusting weights gradually and avoid underfitting\n"
      ]
    },
    {
      "cell_type": "code",
      "execution_count": 318,
      "metadata": {
        "colab": {
          "base_uri": "https://localhost:8080/"
        },
        "id": "cspME_aUZfYe",
        "outputId": "9e88bc8c-3800-4054-f2a9-0efc7717f788"
      },
      "outputs": [
        {
          "output_type": "stream",
          "name": "stdout",
          "text": [
            "Epoch [10/100], Loss: 1.8358\n",
            "Epoch [20/100], Loss: 0.9501\n",
            "Epoch [30/100], Loss: 0.7214\n",
            "Epoch [40/100], Loss: 0.6148\n",
            "Epoch [50/100], Loss: 0.5682\n",
            "Epoch [60/100], Loss: 0.5508\n",
            "Epoch [70/100], Loss: 0.5323\n",
            "Epoch [80/100], Loss: 0.5220\n",
            "Epoch [90/100], Loss: 0.5130\n",
            "Epoch [100/100], Loss: 0.5059\n"
          ]
        }
      ],
      "source": [
        "epochs = 100\n",
        "\n",
        "model.train()   # set the model to training mode\n",
        "\n",
        "##### Your code starts here #####\n",
        "\n",
        "def train(model, criterion, optimizer, X, y, epochs):\n",
        "    # Finish implementing the training loop\n",
        "    for epoch in range(epochs):\n",
        "        # Forward pass\n",
        "        outputs = model(X)  # Get model predictions\n",
        "        loss = criterion(outputs, y)\n",
        "\n",
        "        # Calculate the loss\n",
        "\n",
        "        # Zero gradients, backward pass, update weights\n",
        "\n",
        "        optimizer.zero_grad()  # Zero out the gradients from previous step\n",
        "        loss.backward()  # Backpropagate the loss\n",
        "        optimizer.step()  # Update the model parameters\n",
        "\n",
        "        # Print the loss every 10 epochs\n",
        "        if (epoch + 1) % 10 == 0:\n",
        "            print(f\"Epoch [{epoch+1}/{epochs}], Loss: {loss.item():.4f}\")\n",
        "\n",
        "\n",
        "\n",
        "##### Your code ends here #####\n",
        "\n",
        "train(model, criterion, optimizer, X_tensor, y_tensor, epochs)"
      ]
    },
    {
      "cell_type": "markdown",
      "metadata": {
        "id": "HPVV5yBpZfYe"
      },
      "source": [
        "### Question 2.4: Evaluation and Conclusion (30 points)\n",
        "Let's start by defining some metrics to evaluate the model. In this question, you will implement accuracy and mean squared error metrics."
      ]
    },
    {
      "cell_type": "code",
      "execution_count": 319,
      "metadata": {
        "id": "FQ1Z1ag7ZfYe"
      },
      "outputs": [],
      "source": [
        "##### Your code starts here #####\n",
        "\n",
        "# Implement a function to calculate the accuracy of the model\n",
        "def accuracy(y_pred, y_true):\n",
        "    y_pred = y_pred.round()\n",
        "    correct_predictions = (y_pred == y_true).sum().item()\n",
        "    total_predictions = y_true.size(0)\n",
        "    return correct_predictions / total_predictions\n",
        "\n",
        "# Implement a function to calculate the mean squared error of the model\n",
        "def mse(y_pred, y_true):\n",
        "    return ((y_pred - y_true) ** 2).mean().item()\n",
        "\n"
      ]
    },
    {
      "cell_type": "markdown",
      "metadata": {
        "id": "Ydx31fL5ZfYr"
      },
      "source": [
        "Next, let's evaluate the model on the test dataset using the metrics you have implemented. You should get an accuracy above 80%. If not, rerun the training process again until you get an accuracy above 80%. Explain why we get different results each time we train the model. Are there other ways to ensure we get a representative result? (Answer in the markdown cell below)"
      ]
    },
    {
      "cell_type": "markdown",
      "metadata": {
        "id": "1ElUuCZFZfYr"
      },
      "source": [
        "Because weights is random initialize."
      ]
    },
    {
      "cell_type": "code",
      "execution_count": 320,
      "metadata": {
        "colab": {
          "base_uri": "https://localhost:8080/"
        },
        "id": "ul1phs5VZfYr",
        "outputId": "2c8c9c54-816b-4466-99bc-54a822d3618d"
      },
      "outputs": [
        {
          "output_type": "stream",
          "name": "stdout",
          "text": [
            "Accuracy: 92.11%\n",
            "Mean Squared Error: 0.1205\n"
          ]
        }
      ],
      "source": [
        "model.eval()            # set the model to evaluation mode\n",
        "\n",
        "##### Your code starts here #####\n",
        "\n",
        "with torch.no_grad():   # turn off gradients\n",
        "    # Implement testing and print out the accuracy and mean squared error\n",
        "\n",
        "    y_pred = model(X_test) # Get predictions\n",
        "\n",
        "    acc = accuracy(y_pred, y_test)\n",
        "    mse_val = mse(y_pred, y_test)\n",
        "\n",
        "    print(f\"Accuracy: {acc * 100:.2f}%\")\n",
        "    print(f\"Mean Squared Error: {mse_val:.4f}\")\n"
      ]
    },
    {
      "cell_type": "markdown",
      "metadata": {
        "id": "cta-lkWaZfYr"
      },
      "source": [
        "Finally, let's draw some conclusions based on the model you just trained. We will use the weights of the model to directly interpret the importance of each feature in predicting survival. Why is this possible? (Answer in the markdown cell below)"
      ]
    },
    {
      "cell_type": "markdown",
      "metadata": {
        "id": "dE5osoSyZfYs"
      },
      "source": [
        "Because the coefficients represent the effect of each feature on the model’s output."
      ]
    },
    {
      "cell_type": "code",
      "execution_count": 321,
      "metadata": {
        "colab": {
          "base_uri": "https://localhost:8080/",
          "height": 755
        },
        "id": "dt2imgcZZfYs",
        "outputId": "918bea7f-104a-4799-b1cd-31b8bfaac571"
      },
      "outputs": [
        {
          "output_type": "stream",
          "name": "stdout",
          "text": [
            "      Feature  Coefficient\n",
            "5  Sex_female     0.608024\n",
            "7  Embarked_C     0.235544\n",
            "8  Embarked_Q     0.178354\n",
            "9  Embarked_S     0.045832\n",
            "0      Pclass     0.021081\n",
            "4        Fare     0.016395\n",
            "1         Age    -0.017073\n",
            "3       Parch    -0.069569\n",
            "2       SibSp    -0.352750\n",
            "6    Sex_male    -0.764212\n"
          ]
        },
        {
          "output_type": "display_data",
          "data": {
            "text/plain": [
              "<Figure size 1000x600 with 1 Axes>"
            ],
            "image/png": "[encoded data removed]"
          },
          "metadata": {}
        }
      ],
      "source": [
        "import matplotlib.pyplot as plt\n",
        "\n",
        "# Extract coefficients from the model\n",
        "coefficients = model.linear.weight.detach().numpy().flatten()\n",
        "X = pd.DataFrame(X, columns=data.columns[1:])\n",
        "features = X.columns\n",
        "\n",
        "# Create a DataFrame for better visualization\n",
        "coef_df = pd.DataFrame({\n",
        "    \"Feature\": features,\n",
        "    \"Coefficient\": coefficients\n",
        "}).sort_values(by=\"Coefficient\", ascending=False)\n",
        "\n",
        "\n",
        "##### Your code starts here #####\n",
        "print(coef_df)\n",
        "# Print the coefficients\n",
        "\n",
        "# Plot the coefficients with a bar chart\n",
        "plt.figure(figsize=(10, 6))\n",
        "plt.barh(coef_df[\"Feature\"], coef_df[\"Coefficient\"])\n",
        "plt.xlabel(\"Coefficient Value\")\n",
        "plt.ylabel(\"Feature\")\n",
        "plt.title(\"Feature Importance (Coefficients) in Titanic Survival Prediction\")\n",
        "plt.show()"
      ]
    },
    {
      "cell_type": "markdown",
      "metadata": {
        "id": "ucz_pMCbZfYs"
      },
      "source": [
        "Does the result align with your intuition? Why or why not? According to your results, what is the biggest contributing factor of survival? (Answer in the markdown cell below)"
      ]
    },
    {
      "cell_type": "markdown",
      "metadata": {
        "id": "WJiWxcmiZfYs"
      },
      "source": [
        "yes, because i know that the people in the ship followed the standard that \"female and children  first\" so why female has a so high coefficient,meaning that female has a better survival rates."
      ]
    },
    {
      "cell_type": "markdown",
      "metadata": {
        "id": "xrZ7rRYmZfYs"
      },
      "source": [
        "## Statement of Collaboration\n",
        "\n",
        "It is mandatory to include a Statement of Collaboration in each submission, with respect to the guidelines below.\n",
        "Include the names of everyone involved in the discussions (especially in-person ones), and what was discussed.\n",
        "\n",
        "All students are required to follow the academic honesty guidelines posted on the course website.\n",
        "For programming assignments, in particular, I encourage the students to organize (perhaps using Ed) to discuss the task descriptions, requirements, bugs in my code, and the relevant technical content before they start working on it.\n",
        "\n",
        "However, you should not discuss the specific solutions, and, as a guiding principle, you are not allowed to take anything written or drawn away from these discussions (i.e. no photographs of the blackboard, written notes, referring to Ed, etc.).\n",
        "\n",
        "Especially after you have started working on the assignment, try to restrict the discussion to Ed as much as possible, so that there is no doubt as to the extent of your collaboration."
      ]
    },
    {
      "cell_type": "markdown",
      "metadata": {
        "id": "1xA5nqSaZfYs"
      },
      "source": []
    }
  ],
  "metadata": {
    "kernelspec": {
      "display_name": "base",
      "language": "python",
      "name": "python3"
    },
    "language_info": {
      "codemirror_mode": {
        "name": "ipython",
        "version": 3
      },
      "file_extension": ".py",
      "mimetype": "text/x-python",
      "name": "python",
      "nbconvert_exporter": "python",
      "pygments_lexer": "ipython3",
      "version": "3.11.8"
    },
    "colab": {
      "provenance": [],
      "include_colab_link": true
    }
  },
  "nbformat": 4,
  "nbformat_minor": 0
}